{
 "cells": [
  {
   "cell_type": "markdown",
   "metadata": {},
   "source": [
    "## Курсовая работа по теме: Распознавание мошеннических действий с кредитными картами при помощи нейронных сетей"
   ]
  },
  {
   "cell_type": "markdown",
   "metadata": {},
   "source": [
    "###  Выполнила: Палагутина Варвара. \n",
    "#### Студентка 1 курса направления 02.04.03 «Математическое обеспечение и администрирование информационных систем», профиль обучения «Банковские информационные технологии»"
   ]
  },
  {
   "cell_type": "markdown",
   "metadata": {},
   "source": [
    "## Описание работы\n",
    "Для решения проблемы нахождения мошеннических транзакций среди огромного количества данных необходимо использовать методы машинного обучения или нейронные сети. В своей работе я рассмотрела различные методы машинного обучения, а именно логистическая регессия, случайный лес, деревья решений и XGBoost. Далее создается и обучаеся модель полносвязных нейронных сетей и выводятся результаты по каждому из вариантов обучения для сравнения.\n",
    "В результате работы можно сделать вывод, что хотя и XGBoost показывает самые лучшие результаты предсказания он все-равно недостаточно точный для работы с реальными данными."
   ]
  },
  {
   "cell_type": "markdown",
   "metadata": {},
   "source": [
    "Ссылка на датасет: https://www.kaggle.com/datasets/ealtman2019/credit-card-transactions?datasetId=1478095"
   ]
  },
  {
   "cell_type": "markdown",
   "metadata": {},
   "source": [
    "### LICENSE"
   ]
  },
  {
   "cell_type": "markdown",
   "metadata": {},
   "source": [
    "Докумет LICENSE приложен к zip файлу, в котором отправляется работа. LICENSE-2.0.txt"
   ]
  },
  {
   "cell_type": "markdown",
   "metadata": {},
   "source": [
    "Copyright 2023 Палагутина Варвара Дмитриевна\n",
    "\n",
    "Licensed under the Apache License, Version 2.0 (the \"License\");\n",
    "you may not use this file except in compliance with the License.\n",
    "You may obtain a copy of the License at\n",
    "\n",
    "    http://www.apache.org/licenses/LICENSE-2.0\n",
    "\n",
    "Unless required by applicable law or agreed to in writing, software\n",
    "distributed under the License is distributed on an \"AS IS\" BASIS,\n",
    "WITHOUT WARRANTIES OR CONDITIONS OF ANY KIND, either express or implied.\n",
    "See the License for the specific language governing permissions and\n",
    "limitations under the License."
   ]
  },
  {
   "cell_type": "markdown",
   "metadata": {},
   "source": [
    "### Установка библиотек"
   ]
  },
  {
   "cell_type": "code",
   "execution_count": 1,
   "metadata": {},
   "outputs": [],
   "source": [
    "import numpy as np                               # работа с векторами и матрицами\n",
    "import pandas as pd                              # таблицы и операции над данными\n",
    "import matplotlib.pyplot as plt                  # графики\n",
    "import seaborn as sns     "
   ]
  },
  {
   "cell_type": "code",
   "execution_count": 2,
   "metadata": {},
   "outputs": [],
   "source": [
    "from dateutil.relativedelta import relativedelta # для комфортной работы с датами\n",
    "from scipy.optimize import minimize              # позволяет минимизировать функции\n",
    "\n",
    "import statsmodels.formula.api as smf            # статистика и эконометрика\n",
    "import statsmodels.tsa.api as smt\n",
    "import statsmodels.api as sm\n",
    "import scipy.stats as scs\n",
    "from sklearn.preprocessing import LabelEncoder\n",
    "from sklearn.preprocessing import StandardScaler\n",
    "from sklearn.metrics import classification_report, accuracy_score\n",
    "\n",
    "from itertools import product                    # немножко функций для удобства\n",
    "from tqdm import tqdm_notebook\n",
    "\n",
    "import warnings                                  # чтобы никто не мешал\n",
    "warnings.filterwarnings('ignore')\n",
    "\n",
    "%matplotlib inline"
   ]
  },
  {
   "cell_type": "markdown",
   "metadata": {},
   "source": [
    "### Обработаем данные"
   ]
  },
  {
   "cell_type": "code",
   "execution_count": 3,
   "metadata": {},
   "outputs": [],
   "source": [
    "tranz = pd.read_csv('credit_card_transactions-ibm_v2.csv')"
   ]
  },
  {
   "cell_type": "code",
   "execution_count": 4,
   "metadata": {},
   "outputs": [],
   "source": [
    "tranz = tranz.drop(['Merchant State', 'Zip'], axis=1)"
   ]
  },
  {
   "cell_type": "code",
   "execution_count": 5,
   "metadata": {},
   "outputs": [
    {
     "data": {
      "text/html": [
       "<div>\n",
       "<style scoped>\n",
       "    .dataframe tbody tr th:only-of-type {\n",
       "        vertical-align: middle;\n",
       "    }\n",
       "\n",
       "    .dataframe tbody tr th {\n",
       "        vertical-align: top;\n",
       "    }\n",
       "\n",
       "    .dataframe thead th {\n",
       "        text-align: right;\n",
       "    }\n",
       "</style>\n",
       "<table border=\"1\" class=\"dataframe\">\n",
       "  <thead>\n",
       "    <tr style=\"text-align: right;\">\n",
       "      <th></th>\n",
       "      <th>User</th>\n",
       "      <th>Card</th>\n",
       "      <th>Year</th>\n",
       "      <th>Month</th>\n",
       "      <th>Day</th>\n",
       "      <th>Time</th>\n",
       "      <th>Amount</th>\n",
       "      <th>Use Chip</th>\n",
       "      <th>Merchant Name</th>\n",
       "      <th>Merchant City</th>\n",
       "      <th>MCC</th>\n",
       "      <th>Errors?</th>\n",
       "      <th>Is Fraud?</th>\n",
       "    </tr>\n",
       "  </thead>\n",
       "  <tbody>\n",
       "    <tr>\n",
       "      <th>0</th>\n",
       "      <td>0</td>\n",
       "      <td>0</td>\n",
       "      <td>2002</td>\n",
       "      <td>9</td>\n",
       "      <td>1</td>\n",
       "      <td>06:21</td>\n",
       "      <td>$134.09</td>\n",
       "      <td>Swipe Transaction</td>\n",
       "      <td>3527213246127876953</td>\n",
       "      <td>La Verne</td>\n",
       "      <td>5300</td>\n",
       "      <td>NaN</td>\n",
       "      <td>No</td>\n",
       "    </tr>\n",
       "    <tr>\n",
       "      <th>1</th>\n",
       "      <td>0</td>\n",
       "      <td>0</td>\n",
       "      <td>2002</td>\n",
       "      <td>9</td>\n",
       "      <td>1</td>\n",
       "      <td>06:42</td>\n",
       "      <td>$38.48</td>\n",
       "      <td>Swipe Transaction</td>\n",
       "      <td>-727612092139916043</td>\n",
       "      <td>Monterey Park</td>\n",
       "      <td>5411</td>\n",
       "      <td>NaN</td>\n",
       "      <td>No</td>\n",
       "    </tr>\n",
       "    <tr>\n",
       "      <th>2</th>\n",
       "      <td>0</td>\n",
       "      <td>0</td>\n",
       "      <td>2002</td>\n",
       "      <td>9</td>\n",
       "      <td>2</td>\n",
       "      <td>06:22</td>\n",
       "      <td>$120.34</td>\n",
       "      <td>Swipe Transaction</td>\n",
       "      <td>-727612092139916043</td>\n",
       "      <td>Monterey Park</td>\n",
       "      <td>5411</td>\n",
       "      <td>NaN</td>\n",
       "      <td>No</td>\n",
       "    </tr>\n",
       "    <tr>\n",
       "      <th>3</th>\n",
       "      <td>0</td>\n",
       "      <td>0</td>\n",
       "      <td>2002</td>\n",
       "      <td>9</td>\n",
       "      <td>2</td>\n",
       "      <td>17:45</td>\n",
       "      <td>$128.95</td>\n",
       "      <td>Swipe Transaction</td>\n",
       "      <td>3414527459579106770</td>\n",
       "      <td>Monterey Park</td>\n",
       "      <td>5651</td>\n",
       "      <td>NaN</td>\n",
       "      <td>No</td>\n",
       "    </tr>\n",
       "    <tr>\n",
       "      <th>4</th>\n",
       "      <td>0</td>\n",
       "      <td>0</td>\n",
       "      <td>2002</td>\n",
       "      <td>9</td>\n",
       "      <td>3</td>\n",
       "      <td>06:23</td>\n",
       "      <td>$104.71</td>\n",
       "      <td>Swipe Transaction</td>\n",
       "      <td>5817218446178736267</td>\n",
       "      <td>La Verne</td>\n",
       "      <td>5912</td>\n",
       "      <td>NaN</td>\n",
       "      <td>No</td>\n",
       "    </tr>\n",
       "  </tbody>\n",
       "</table>\n",
       "</div>"
      ],
      "text/plain": [
       "   User  Card  Year  Month  Day   Time   Amount           Use Chip  \\\n",
       "0     0     0  2002      9    1  06:21  $134.09  Swipe Transaction   \n",
       "1     0     0  2002      9    1  06:42   $38.48  Swipe Transaction   \n",
       "2     0     0  2002      9    2  06:22  $120.34  Swipe Transaction   \n",
       "3     0     0  2002      9    2  17:45  $128.95  Swipe Transaction   \n",
       "4     0     0  2002      9    3  06:23  $104.71  Swipe Transaction   \n",
       "\n",
       "         Merchant Name  Merchant City   MCC Errors? Is Fraud?  \n",
       "0  3527213246127876953       La Verne  5300     NaN        No  \n",
       "1  -727612092139916043  Monterey Park  5411     NaN        No  \n",
       "2  -727612092139916043  Monterey Park  5411     NaN        No  \n",
       "3  3414527459579106770  Monterey Park  5651     NaN        No  \n",
       "4  5817218446178736267       La Verne  5912     NaN        No  "
      ]
     },
     "execution_count": 5,
     "metadata": {},
     "output_type": "execute_result"
    }
   ],
   "source": [
    "tranz.head()"
   ]
  },
  {
   "cell_type": "code",
   "execution_count": 6,
   "metadata": {},
   "outputs": [],
   "source": [
    "tranz[\"Amount\"] = tranz[\"Amount\"].astype(str).str.replace(\"$\",\"\").astype(float)\n",
    "tranz[\"Use Chip\"]=LabelEncoder().fit_transform(tranz[\"Use Chip\"])\n",
    "tranz[\"Merchant City\"]=LabelEncoder().fit_transform(tranz[\"Merchant City\"])\n",
    "tranz[\"Errors?\"]= tranz[\"Errors?\"].fillna(\"No error\")\n",
    "tranz[\"Errors?\"]=LabelEncoder().fit_transform(tranz[\"Errors?\"])\n",
    "tranz[\"Is Fraud?\"] = tranz[\"Is Fraud?\"].apply(lambda x: 1 if x == 'Yes' else 0)"
   ]
  },
  {
   "cell_type": "code",
   "execution_count": 7,
   "metadata": {
    "scrolled": true
   },
   "outputs": [
    {
     "data": {
      "text/html": [
       "<div>\n",
       "<style scoped>\n",
       "    .dataframe tbody tr th:only-of-type {\n",
       "        vertical-align: middle;\n",
       "    }\n",
       "\n",
       "    .dataframe tbody tr th {\n",
       "        vertical-align: top;\n",
       "    }\n",
       "\n",
       "    .dataframe thead th {\n",
       "        text-align: right;\n",
       "    }\n",
       "</style>\n",
       "<table border=\"1\" class=\"dataframe\">\n",
       "  <thead>\n",
       "    <tr style=\"text-align: right;\">\n",
       "      <th></th>\n",
       "      <th>User</th>\n",
       "      <th>Card</th>\n",
       "      <th>Year</th>\n",
       "      <th>Month</th>\n",
       "      <th>Day</th>\n",
       "      <th>Time</th>\n",
       "      <th>Amount</th>\n",
       "      <th>Use Chip</th>\n",
       "      <th>Merchant Name</th>\n",
       "      <th>Merchant City</th>\n",
       "      <th>MCC</th>\n",
       "      <th>Errors?</th>\n",
       "      <th>Is Fraud?</th>\n",
       "    </tr>\n",
       "  </thead>\n",
       "  <tbody>\n",
       "    <tr>\n",
       "      <th>0</th>\n",
       "      <td>0</td>\n",
       "      <td>0</td>\n",
       "      <td>2002</td>\n",
       "      <td>9</td>\n",
       "      <td>1</td>\n",
       "      <td>06:21</td>\n",
       "      <td>134.09</td>\n",
       "      <td>2</td>\n",
       "      <td>3527213246127876953</td>\n",
       "      <td>6274</td>\n",
       "      <td>5300</td>\n",
       "      <td>22</td>\n",
       "      <td>0</td>\n",
       "    </tr>\n",
       "    <tr>\n",
       "      <th>1</th>\n",
       "      <td>0</td>\n",
       "      <td>0</td>\n",
       "      <td>2002</td>\n",
       "      <td>9</td>\n",
       "      <td>1</td>\n",
       "      <td>06:42</td>\n",
       "      <td>38.48</td>\n",
       "      <td>2</td>\n",
       "      <td>-727612092139916043</td>\n",
       "      <td>7827</td>\n",
       "      <td>5411</td>\n",
       "      <td>22</td>\n",
       "      <td>0</td>\n",
       "    </tr>\n",
       "    <tr>\n",
       "      <th>2</th>\n",
       "      <td>0</td>\n",
       "      <td>0</td>\n",
       "      <td>2002</td>\n",
       "      <td>9</td>\n",
       "      <td>2</td>\n",
       "      <td>06:22</td>\n",
       "      <td>120.34</td>\n",
       "      <td>2</td>\n",
       "      <td>-727612092139916043</td>\n",
       "      <td>7827</td>\n",
       "      <td>5411</td>\n",
       "      <td>22</td>\n",
       "      <td>0</td>\n",
       "    </tr>\n",
       "    <tr>\n",
       "      <th>3</th>\n",
       "      <td>0</td>\n",
       "      <td>0</td>\n",
       "      <td>2002</td>\n",
       "      <td>9</td>\n",
       "      <td>2</td>\n",
       "      <td>17:45</td>\n",
       "      <td>128.95</td>\n",
       "      <td>2</td>\n",
       "      <td>3414527459579106770</td>\n",
       "      <td>7827</td>\n",
       "      <td>5651</td>\n",
       "      <td>22</td>\n",
       "      <td>0</td>\n",
       "    </tr>\n",
       "    <tr>\n",
       "      <th>4</th>\n",
       "      <td>0</td>\n",
       "      <td>0</td>\n",
       "      <td>2002</td>\n",
       "      <td>9</td>\n",
       "      <td>3</td>\n",
       "      <td>06:23</td>\n",
       "      <td>104.71</td>\n",
       "      <td>2</td>\n",
       "      <td>5817218446178736267</td>\n",
       "      <td>6274</td>\n",
       "      <td>5912</td>\n",
       "      <td>22</td>\n",
       "      <td>0</td>\n",
       "    </tr>\n",
       "  </tbody>\n",
       "</table>\n",
       "</div>"
      ],
      "text/plain": [
       "   User  Card  Year  Month  Day   Time  Amount  Use Chip        Merchant Name  \\\n",
       "0     0     0  2002      9    1  06:21  134.09         2  3527213246127876953   \n",
       "1     0     0  2002      9    1  06:42   38.48         2  -727612092139916043   \n",
       "2     0     0  2002      9    2  06:22  120.34         2  -727612092139916043   \n",
       "3     0     0  2002      9    2  17:45  128.95         2  3414527459579106770   \n",
       "4     0     0  2002      9    3  06:23  104.71         2  5817218446178736267   \n",
       "\n",
       "   Merchant City   MCC  Errors?  Is Fraud?  \n",
       "0           6274  5300       22          0  \n",
       "1           7827  5411       22          0  \n",
       "2           7827  5411       22          0  \n",
       "3           7827  5651       22          0  \n",
       "4           6274  5912       22          0  "
      ]
     },
     "execution_count": 7,
     "metadata": {},
     "output_type": "execute_result"
    }
   ],
   "source": [
    "tranz.head()"
   ]
  },
  {
   "cell_type": "code",
   "execution_count": 8,
   "metadata": {},
   "outputs": [],
   "source": [
    "tranz['Time'] = pd.to_datetime(tranz['Time'])"
   ]
  },
  {
   "cell_type": "code",
   "execution_count": 9,
   "metadata": {},
   "outputs": [
    {
     "data": {
      "text/html": [
       "<div>\n",
       "<style scoped>\n",
       "    .dataframe tbody tr th:only-of-type {\n",
       "        vertical-align: middle;\n",
       "    }\n",
       "\n",
       "    .dataframe tbody tr th {\n",
       "        vertical-align: top;\n",
       "    }\n",
       "\n",
       "    .dataframe thead th {\n",
       "        text-align: right;\n",
       "    }\n",
       "</style>\n",
       "<table border=\"1\" class=\"dataframe\">\n",
       "  <thead>\n",
       "    <tr style=\"text-align: right;\">\n",
       "      <th></th>\n",
       "      <th>User</th>\n",
       "      <th>Card</th>\n",
       "      <th>Year</th>\n",
       "      <th>Month</th>\n",
       "      <th>Day</th>\n",
       "      <th>Time</th>\n",
       "      <th>Amount</th>\n",
       "      <th>Use Chip</th>\n",
       "      <th>Merchant Name</th>\n",
       "      <th>Merchant City</th>\n",
       "      <th>MCC</th>\n",
       "      <th>Errors?</th>\n",
       "      <th>Is Fraud?</th>\n",
       "    </tr>\n",
       "  </thead>\n",
       "  <tbody>\n",
       "    <tr>\n",
       "      <th>0</th>\n",
       "      <td>0</td>\n",
       "      <td>0</td>\n",
       "      <td>2002</td>\n",
       "      <td>9</td>\n",
       "      <td>1</td>\n",
       "      <td>2023-05-09 06:21:00</td>\n",
       "      <td>134.09</td>\n",
       "      <td>2</td>\n",
       "      <td>3527213246127876953</td>\n",
       "      <td>6274</td>\n",
       "      <td>5300</td>\n",
       "      <td>22</td>\n",
       "      <td>0</td>\n",
       "    </tr>\n",
       "    <tr>\n",
       "      <th>1</th>\n",
       "      <td>0</td>\n",
       "      <td>0</td>\n",
       "      <td>2002</td>\n",
       "      <td>9</td>\n",
       "      <td>1</td>\n",
       "      <td>2023-05-09 06:42:00</td>\n",
       "      <td>38.48</td>\n",
       "      <td>2</td>\n",
       "      <td>-727612092139916043</td>\n",
       "      <td>7827</td>\n",
       "      <td>5411</td>\n",
       "      <td>22</td>\n",
       "      <td>0</td>\n",
       "    </tr>\n",
       "    <tr>\n",
       "      <th>2</th>\n",
       "      <td>0</td>\n",
       "      <td>0</td>\n",
       "      <td>2002</td>\n",
       "      <td>9</td>\n",
       "      <td>2</td>\n",
       "      <td>2023-05-09 06:22:00</td>\n",
       "      <td>120.34</td>\n",
       "      <td>2</td>\n",
       "      <td>-727612092139916043</td>\n",
       "      <td>7827</td>\n",
       "      <td>5411</td>\n",
       "      <td>22</td>\n",
       "      <td>0</td>\n",
       "    </tr>\n",
       "    <tr>\n",
       "      <th>3</th>\n",
       "      <td>0</td>\n",
       "      <td>0</td>\n",
       "      <td>2002</td>\n",
       "      <td>9</td>\n",
       "      <td>2</td>\n",
       "      <td>2023-05-09 17:45:00</td>\n",
       "      <td>128.95</td>\n",
       "      <td>2</td>\n",
       "      <td>3414527459579106770</td>\n",
       "      <td>7827</td>\n",
       "      <td>5651</td>\n",
       "      <td>22</td>\n",
       "      <td>0</td>\n",
       "    </tr>\n",
       "    <tr>\n",
       "      <th>4</th>\n",
       "      <td>0</td>\n",
       "      <td>0</td>\n",
       "      <td>2002</td>\n",
       "      <td>9</td>\n",
       "      <td>3</td>\n",
       "      <td>2023-05-09 06:23:00</td>\n",
       "      <td>104.71</td>\n",
       "      <td>2</td>\n",
       "      <td>5817218446178736267</td>\n",
       "      <td>6274</td>\n",
       "      <td>5912</td>\n",
       "      <td>22</td>\n",
       "      <td>0</td>\n",
       "    </tr>\n",
       "  </tbody>\n",
       "</table>\n",
       "</div>"
      ],
      "text/plain": [
       "   User  Card  Year  Month  Day                Time  Amount  Use Chip  \\\n",
       "0     0     0  2002      9    1 2023-05-09 06:21:00  134.09         2   \n",
       "1     0     0  2002      9    1 2023-05-09 06:42:00   38.48         2   \n",
       "2     0     0  2002      9    2 2023-05-09 06:22:00  120.34         2   \n",
       "3     0     0  2002      9    2 2023-05-09 17:45:00  128.95         2   \n",
       "4     0     0  2002      9    3 2023-05-09 06:23:00  104.71         2   \n",
       "\n",
       "         Merchant Name  Merchant City   MCC  Errors?  Is Fraud?  \n",
       "0  3527213246127876953           6274  5300       22          0  \n",
       "1  -727612092139916043           7827  5411       22          0  \n",
       "2  -727612092139916043           7827  5411       22          0  \n",
       "3  3414527459579106770           7827  5651       22          0  \n",
       "4  5817218446178736267           6274  5912       22          0  "
      ]
     },
     "execution_count": 9,
     "metadata": {},
     "output_type": "execute_result"
    }
   ],
   "source": [
    "tranz.head()"
   ]
  },
  {
   "cell_type": "markdown",
   "metadata": {},
   "source": [
    "### Изменим часы на время суток"
   ]
  },
  {
   "cell_type": "code",
   "execution_count": 10,
   "metadata": {},
   "outputs": [],
   "source": [
    "times = {\n",
    "    'morning': range(6, 12),\n",
    "    'day': range(12, 18),\n",
    "    'evening': range(18, 24),\n",
    "    'night': range(0, 6)\n",
    "}\n",
    "def get_time_interval(time):\n",
    "    for key, value in times.items():\n",
    "        if time.hour in value:\n",
    "            return key\n",
    "tranz['Time_interval'] = tranz['Time'].apply(get_time_interval)"
   ]
  },
  {
   "cell_type": "code",
   "execution_count": 11,
   "metadata": {
    "scrolled": true
   },
   "outputs": [
    {
     "data": {
      "text/html": [
       "<div>\n",
       "<style scoped>\n",
       "    .dataframe tbody tr th:only-of-type {\n",
       "        vertical-align: middle;\n",
       "    }\n",
       "\n",
       "    .dataframe tbody tr th {\n",
       "        vertical-align: top;\n",
       "    }\n",
       "\n",
       "    .dataframe thead th {\n",
       "        text-align: right;\n",
       "    }\n",
       "</style>\n",
       "<table border=\"1\" class=\"dataframe\">\n",
       "  <thead>\n",
       "    <tr style=\"text-align: right;\">\n",
       "      <th></th>\n",
       "      <th>User</th>\n",
       "      <th>Card</th>\n",
       "      <th>Year</th>\n",
       "      <th>Month</th>\n",
       "      <th>Day</th>\n",
       "      <th>Time</th>\n",
       "      <th>Amount</th>\n",
       "      <th>Use Chip</th>\n",
       "      <th>Merchant Name</th>\n",
       "      <th>Merchant City</th>\n",
       "      <th>MCC</th>\n",
       "      <th>Errors?</th>\n",
       "      <th>Is Fraud?</th>\n",
       "      <th>Time_interval</th>\n",
       "    </tr>\n",
       "  </thead>\n",
       "  <tbody>\n",
       "    <tr>\n",
       "      <th>0</th>\n",
       "      <td>0</td>\n",
       "      <td>0</td>\n",
       "      <td>2002</td>\n",
       "      <td>9</td>\n",
       "      <td>1</td>\n",
       "      <td>2023-05-09 06:21:00</td>\n",
       "      <td>134.09</td>\n",
       "      <td>2</td>\n",
       "      <td>3527213246127876953</td>\n",
       "      <td>6274</td>\n",
       "      <td>5300</td>\n",
       "      <td>22</td>\n",
       "      <td>0</td>\n",
       "      <td>morning</td>\n",
       "    </tr>\n",
       "    <tr>\n",
       "      <th>1</th>\n",
       "      <td>0</td>\n",
       "      <td>0</td>\n",
       "      <td>2002</td>\n",
       "      <td>9</td>\n",
       "      <td>1</td>\n",
       "      <td>2023-05-09 06:42:00</td>\n",
       "      <td>38.48</td>\n",
       "      <td>2</td>\n",
       "      <td>-727612092139916043</td>\n",
       "      <td>7827</td>\n",
       "      <td>5411</td>\n",
       "      <td>22</td>\n",
       "      <td>0</td>\n",
       "      <td>morning</td>\n",
       "    </tr>\n",
       "    <tr>\n",
       "      <th>2</th>\n",
       "      <td>0</td>\n",
       "      <td>0</td>\n",
       "      <td>2002</td>\n",
       "      <td>9</td>\n",
       "      <td>2</td>\n",
       "      <td>2023-05-09 06:22:00</td>\n",
       "      <td>120.34</td>\n",
       "      <td>2</td>\n",
       "      <td>-727612092139916043</td>\n",
       "      <td>7827</td>\n",
       "      <td>5411</td>\n",
       "      <td>22</td>\n",
       "      <td>0</td>\n",
       "      <td>morning</td>\n",
       "    </tr>\n",
       "    <tr>\n",
       "      <th>3</th>\n",
       "      <td>0</td>\n",
       "      <td>0</td>\n",
       "      <td>2002</td>\n",
       "      <td>9</td>\n",
       "      <td>2</td>\n",
       "      <td>2023-05-09 17:45:00</td>\n",
       "      <td>128.95</td>\n",
       "      <td>2</td>\n",
       "      <td>3414527459579106770</td>\n",
       "      <td>7827</td>\n",
       "      <td>5651</td>\n",
       "      <td>22</td>\n",
       "      <td>0</td>\n",
       "      <td>day</td>\n",
       "    </tr>\n",
       "    <tr>\n",
       "      <th>4</th>\n",
       "      <td>0</td>\n",
       "      <td>0</td>\n",
       "      <td>2002</td>\n",
       "      <td>9</td>\n",
       "      <td>3</td>\n",
       "      <td>2023-05-09 06:23:00</td>\n",
       "      <td>104.71</td>\n",
       "      <td>2</td>\n",
       "      <td>5817218446178736267</td>\n",
       "      <td>6274</td>\n",
       "      <td>5912</td>\n",
       "      <td>22</td>\n",
       "      <td>0</td>\n",
       "      <td>morning</td>\n",
       "    </tr>\n",
       "  </tbody>\n",
       "</table>\n",
       "</div>"
      ],
      "text/plain": [
       "   User  Card  Year  Month  Day                Time  Amount  Use Chip  \\\n",
       "0     0     0  2002      9    1 2023-05-09 06:21:00  134.09         2   \n",
       "1     0     0  2002      9    1 2023-05-09 06:42:00   38.48         2   \n",
       "2     0     0  2002      9    2 2023-05-09 06:22:00  120.34         2   \n",
       "3     0     0  2002      9    2 2023-05-09 17:45:00  128.95         2   \n",
       "4     0     0  2002      9    3 2023-05-09 06:23:00  104.71         2   \n",
       "\n",
       "         Merchant Name  Merchant City   MCC  Errors?  Is Fraud? Time_interval  \n",
       "0  3527213246127876953           6274  5300       22          0       morning  \n",
       "1  -727612092139916043           7827  5411       22          0       morning  \n",
       "2  -727612092139916043           7827  5411       22          0       morning  \n",
       "3  3414527459579106770           7827  5651       22          0           day  \n",
       "4  5817218446178736267           6274  5912       22          0       morning  "
      ]
     },
     "execution_count": 11,
     "metadata": {},
     "output_type": "execute_result"
    }
   ],
   "source": [
    "tranz.head()"
   ]
  },
  {
   "cell_type": "code",
   "execution_count": 12,
   "metadata": {},
   "outputs": [
    {
     "data": {
      "text/html": [
       "<div>\n",
       "<style scoped>\n",
       "    .dataframe tbody tr th:only-of-type {\n",
       "        vertical-align: middle;\n",
       "    }\n",
       "\n",
       "    .dataframe tbody tr th {\n",
       "        vertical-align: top;\n",
       "    }\n",
       "\n",
       "    .dataframe thead th {\n",
       "        text-align: right;\n",
       "    }\n",
       "</style>\n",
       "<table border=\"1\" class=\"dataframe\">\n",
       "  <thead>\n",
       "    <tr style=\"text-align: right;\">\n",
       "      <th></th>\n",
       "      <th>User</th>\n",
       "      <th>Card</th>\n",
       "      <th>Year</th>\n",
       "      <th>Month</th>\n",
       "      <th>Day</th>\n",
       "      <th>Time</th>\n",
       "      <th>Amount</th>\n",
       "      <th>Use Chip</th>\n",
       "      <th>Merchant Name</th>\n",
       "      <th>Merchant City</th>\n",
       "      <th>MCC</th>\n",
       "      <th>Errors?</th>\n",
       "      <th>Is Fraud?</th>\n",
       "      <th>Time_interval</th>\n",
       "    </tr>\n",
       "  </thead>\n",
       "  <tbody>\n",
       "    <tr>\n",
       "      <th>0</th>\n",
       "      <td>0</td>\n",
       "      <td>0</td>\n",
       "      <td>2002</td>\n",
       "      <td>9</td>\n",
       "      <td>1</td>\n",
       "      <td>2023-05-09 06:21:00</td>\n",
       "      <td>134.09</td>\n",
       "      <td>2</td>\n",
       "      <td>3527213246127876953</td>\n",
       "      <td>6274</td>\n",
       "      <td>5300</td>\n",
       "      <td>22</td>\n",
       "      <td>0</td>\n",
       "      <td>morning</td>\n",
       "    </tr>\n",
       "    <tr>\n",
       "      <th>1</th>\n",
       "      <td>0</td>\n",
       "      <td>0</td>\n",
       "      <td>2002</td>\n",
       "      <td>9</td>\n",
       "      <td>1</td>\n",
       "      <td>2023-05-09 06:42:00</td>\n",
       "      <td>38.48</td>\n",
       "      <td>2</td>\n",
       "      <td>-727612092139916043</td>\n",
       "      <td>7827</td>\n",
       "      <td>5411</td>\n",
       "      <td>22</td>\n",
       "      <td>0</td>\n",
       "      <td>morning</td>\n",
       "    </tr>\n",
       "    <tr>\n",
       "      <th>2</th>\n",
       "      <td>0</td>\n",
       "      <td>0</td>\n",
       "      <td>2002</td>\n",
       "      <td>9</td>\n",
       "      <td>2</td>\n",
       "      <td>2023-05-09 06:22:00</td>\n",
       "      <td>120.34</td>\n",
       "      <td>2</td>\n",
       "      <td>-727612092139916043</td>\n",
       "      <td>7827</td>\n",
       "      <td>5411</td>\n",
       "      <td>22</td>\n",
       "      <td>0</td>\n",
       "      <td>morning</td>\n",
       "    </tr>\n",
       "    <tr>\n",
       "      <th>3</th>\n",
       "      <td>0</td>\n",
       "      <td>0</td>\n",
       "      <td>2002</td>\n",
       "      <td>9</td>\n",
       "      <td>2</td>\n",
       "      <td>2023-05-09 17:45:00</td>\n",
       "      <td>128.95</td>\n",
       "      <td>2</td>\n",
       "      <td>3414527459579106770</td>\n",
       "      <td>7827</td>\n",
       "      <td>5651</td>\n",
       "      <td>22</td>\n",
       "      <td>0</td>\n",
       "      <td>day</td>\n",
       "    </tr>\n",
       "    <tr>\n",
       "      <th>4</th>\n",
       "      <td>0</td>\n",
       "      <td>0</td>\n",
       "      <td>2002</td>\n",
       "      <td>9</td>\n",
       "      <td>3</td>\n",
       "      <td>2023-05-09 06:23:00</td>\n",
       "      <td>104.71</td>\n",
       "      <td>2</td>\n",
       "      <td>5817218446178736267</td>\n",
       "      <td>6274</td>\n",
       "      <td>5912</td>\n",
       "      <td>22</td>\n",
       "      <td>0</td>\n",
       "      <td>morning</td>\n",
       "    </tr>\n",
       "    <tr>\n",
       "      <th>...</th>\n",
       "      <td>...</td>\n",
       "      <td>...</td>\n",
       "      <td>...</td>\n",
       "      <td>...</td>\n",
       "      <td>...</td>\n",
       "      <td>...</td>\n",
       "      <td>...</td>\n",
       "      <td>...</td>\n",
       "      <td>...</td>\n",
       "      <td>...</td>\n",
       "      <td>...</td>\n",
       "      <td>...</td>\n",
       "      <td>...</td>\n",
       "      <td>...</td>\n",
       "    </tr>\n",
       "    <tr>\n",
       "      <th>24386895</th>\n",
       "      <td>1999</td>\n",
       "      <td>1</td>\n",
       "      <td>2020</td>\n",
       "      <td>2</td>\n",
       "      <td>27</td>\n",
       "      <td>2023-05-09 22:23:00</td>\n",
       "      <td>-54.00</td>\n",
       "      <td>0</td>\n",
       "      <td>-5162038175624867091</td>\n",
       "      <td>7555</td>\n",
       "      <td>5541</td>\n",
       "      <td>22</td>\n",
       "      <td>0</td>\n",
       "      <td>evening</td>\n",
       "    </tr>\n",
       "    <tr>\n",
       "      <th>24386896</th>\n",
       "      <td>1999</td>\n",
       "      <td>1</td>\n",
       "      <td>2020</td>\n",
       "      <td>2</td>\n",
       "      <td>27</td>\n",
       "      <td>2023-05-09 22:24:00</td>\n",
       "      <td>54.00</td>\n",
       "      <td>0</td>\n",
       "      <td>-5162038175624867091</td>\n",
       "      <td>7555</td>\n",
       "      <td>5541</td>\n",
       "      <td>22</td>\n",
       "      <td>0</td>\n",
       "      <td>evening</td>\n",
       "    </tr>\n",
       "    <tr>\n",
       "      <th>24386897</th>\n",
       "      <td>1999</td>\n",
       "      <td>1</td>\n",
       "      <td>2020</td>\n",
       "      <td>2</td>\n",
       "      <td>28</td>\n",
       "      <td>2023-05-09 07:43:00</td>\n",
       "      <td>59.15</td>\n",
       "      <td>0</td>\n",
       "      <td>2500998799892805156</td>\n",
       "      <td>7555</td>\n",
       "      <td>4121</td>\n",
       "      <td>22</td>\n",
       "      <td>0</td>\n",
       "      <td>morning</td>\n",
       "    </tr>\n",
       "    <tr>\n",
       "      <th>24386898</th>\n",
       "      <td>1999</td>\n",
       "      <td>1</td>\n",
       "      <td>2020</td>\n",
       "      <td>2</td>\n",
       "      <td>28</td>\n",
       "      <td>2023-05-09 20:10:00</td>\n",
       "      <td>43.12</td>\n",
       "      <td>0</td>\n",
       "      <td>2500998799892805156</td>\n",
       "      <td>7555</td>\n",
       "      <td>4121</td>\n",
       "      <td>22</td>\n",
       "      <td>0</td>\n",
       "      <td>evening</td>\n",
       "    </tr>\n",
       "    <tr>\n",
       "      <th>24386899</th>\n",
       "      <td>1999</td>\n",
       "      <td>1</td>\n",
       "      <td>2020</td>\n",
       "      <td>2</td>\n",
       "      <td>28</td>\n",
       "      <td>2023-05-09 23:10:00</td>\n",
       "      <td>45.13</td>\n",
       "      <td>0</td>\n",
       "      <td>4751695835751691036</td>\n",
       "      <td>7555</td>\n",
       "      <td>5814</td>\n",
       "      <td>22</td>\n",
       "      <td>0</td>\n",
       "      <td>evening</td>\n",
       "    </tr>\n",
       "  </tbody>\n",
       "</table>\n",
       "<p>24386900 rows × 14 columns</p>\n",
       "</div>"
      ],
      "text/plain": [
       "          User  Card  Year  Month  Day                Time  Amount  Use Chip  \\\n",
       "0            0     0  2002      9    1 2023-05-09 06:21:00  134.09         2   \n",
       "1            0     0  2002      9    1 2023-05-09 06:42:00   38.48         2   \n",
       "2            0     0  2002      9    2 2023-05-09 06:22:00  120.34         2   \n",
       "3            0     0  2002      9    2 2023-05-09 17:45:00  128.95         2   \n",
       "4            0     0  2002      9    3 2023-05-09 06:23:00  104.71         2   \n",
       "...        ...   ...   ...    ...  ...                 ...     ...       ...   \n",
       "24386895  1999     1  2020      2   27 2023-05-09 22:23:00  -54.00         0   \n",
       "24386896  1999     1  2020      2   27 2023-05-09 22:24:00   54.00         0   \n",
       "24386897  1999     1  2020      2   28 2023-05-09 07:43:00   59.15         0   \n",
       "24386898  1999     1  2020      2   28 2023-05-09 20:10:00   43.12         0   \n",
       "24386899  1999     1  2020      2   28 2023-05-09 23:10:00   45.13         0   \n",
       "\n",
       "                Merchant Name  Merchant City   MCC  Errors?  Is Fraud?  \\\n",
       "0         3527213246127876953           6274  5300       22          0   \n",
       "1         -727612092139916043           7827  5411       22          0   \n",
       "2         -727612092139916043           7827  5411       22          0   \n",
       "3         3414527459579106770           7827  5651       22          0   \n",
       "4         5817218446178736267           6274  5912       22          0   \n",
       "...                       ...            ...   ...      ...        ...   \n",
       "24386895 -5162038175624867091           7555  5541       22          0   \n",
       "24386896 -5162038175624867091           7555  5541       22          0   \n",
       "24386897  2500998799892805156           7555  4121       22          0   \n",
       "24386898  2500998799892805156           7555  4121       22          0   \n",
       "24386899  4751695835751691036           7555  5814       22          0   \n",
       "\n",
       "         Time_interval  \n",
       "0              morning  \n",
       "1              morning  \n",
       "2              morning  \n",
       "3                  day  \n",
       "4              morning  \n",
       "...                ...  \n",
       "24386895       evening  \n",
       "24386896       evening  \n",
       "24386897       morning  \n",
       "24386898       evening  \n",
       "24386899       evening  \n",
       "\n",
       "[24386900 rows x 14 columns]"
      ]
     },
     "execution_count": 12,
     "metadata": {},
     "output_type": "execute_result"
    }
   ],
   "source": [
    "tranz"
   ]
  },
  {
   "cell_type": "code",
   "execution_count": 13,
   "metadata": {},
   "outputs": [],
   "source": [
    "del tranz['Time']"
   ]
  },
  {
   "cell_type": "code",
   "execution_count": 14,
   "metadata": {},
   "outputs": [],
   "source": [
    "tranz[\"Time_interval\"]=tranz[\"Time_interval\"].replace({'night':0,'morning':1,'day':2,'evening':3})"
   ]
  },
  {
   "cell_type": "code",
   "execution_count": 15,
   "metadata": {
    "scrolled": false
   },
   "outputs": [
    {
     "data": {
      "text/plain": [
       "<AxesSubplot:>"
      ]
     },
     "execution_count": 15,
     "metadata": {},
     "output_type": "execute_result"
    },
    {
     "data": {
      "image/png": "[encoded data removed]",
      "text/plain": [
       "<Figure size 1440x720 with 2 Axes>"
      ]
     },
     "metadata": {
      "needs_background": "light"
     },
     "output_type": "display_data"
    }
   ],
   "source": [
    "plt.figure(figsize=(20,10)) \n",
    "sns.heatmap(tranz.corr(), annot=True)"
   ]
  },
  {
   "cell_type": "code",
   "execution_count": 16,
   "metadata": {},
   "outputs": [],
   "source": [
    "tranz = tranz[tranz['Year']>2007]"
   ]
  },
  {
   "cell_type": "code",
   "execution_count": 17,
   "metadata": {
    "scrolled": true
   },
   "outputs": [
    {
     "data": {
      "text/plain": [
       "1249    59373\n",
       "262     53662\n",
       "1101    52337\n",
       "396     50500\n",
       "332     49778\n",
       "        ...  \n",
       "231        21\n",
       "1367       20\n",
       "1767       16\n",
       "1817       15\n",
       "1440        2\n",
       "Name: User, Length: 1993, dtype: int64"
      ]
     },
     "execution_count": 17,
     "metadata": {},
     "output_type": "execute_result"
    }
   ],
   "source": [
    "tranz['User'].value_counts()"
   ]
  },
  {
   "cell_type": "code",
   "execution_count": 18,
   "metadata": {
    "scrolled": true
   },
   "outputs": [
    {
     "name": "stdout",
     "output_type": "stream",
     "text": [
      "<class 'pandas.core.frame.DataFrame'>\n",
      "Int64Index: 19490467 entries, 1899 to 24386899\n",
      "Data columns (total 13 columns):\n",
      " #   Column         Dtype  \n",
      "---  ------         -----  \n",
      " 0   User           int64  \n",
      " 1   Card           int64  \n",
      " 2   Year           int64  \n",
      " 3   Month          int64  \n",
      " 4   Day            int64  \n",
      " 5   Amount         float64\n",
      " 6   Use Chip       int32  \n",
      " 7   Merchant Name  int64  \n",
      " 8   Merchant City  int32  \n",
      " 9   MCC            int64  \n",
      " 10  Errors?        int32  \n",
      " 11  Is Fraud?      int64  \n",
      " 12  Time_interval  int64  \n",
      "dtypes: float64(1), int32(3), int64(9)\n",
      "memory usage: 1.8 GB\n"
     ]
    }
   ],
   "source": [
    "tranz.info()"
   ]
  },
  {
   "cell_type": "markdown",
   "metadata": {},
   "source": [
    "### Создадим равновесную выборку"
   ]
  },
  {
   "cell_type": "code",
   "execution_count": 19,
   "metadata": {},
   "outputs": [],
   "source": [
    "test = tranz[tranz['Is Fraud?']==1].iloc[:20000].copy()\n",
    "test2= tranz[tranz['Is Fraud?']==0].iloc[:20000].copy()\n",
    "test_cut = pd.concat([test, test2])\n",
    "shuffled_test = test_cut.sample(frac=1)"
   ]
  },
  {
   "cell_type": "code",
   "execution_count": 20,
   "metadata": {},
   "outputs": [],
   "source": [
    "shuffled_test = shuffled_test.drop(['User'], axis=1)"
   ]
  },
  {
   "cell_type": "code",
   "execution_count": 21,
   "metadata": {},
   "outputs": [
    {
     "data": {
      "text/html": [
       "<div>\n",
       "<style scoped>\n",
       "    .dataframe tbody tr th:only-of-type {\n",
       "        vertical-align: middle;\n",
       "    }\n",
       "\n",
       "    .dataframe tbody tr th {\n",
       "        vertical-align: top;\n",
       "    }\n",
       "\n",
       "    .dataframe thead th {\n",
       "        text-align: right;\n",
       "    }\n",
       "</style>\n",
       "<table border=\"1\" class=\"dataframe\">\n",
       "  <thead>\n",
       "    <tr style=\"text-align: right;\">\n",
       "      <th></th>\n",
       "      <th>Card</th>\n",
       "      <th>Year</th>\n",
       "      <th>Month</th>\n",
       "      <th>Day</th>\n",
       "      <th>Amount</th>\n",
       "      <th>Use Chip</th>\n",
       "      <th>Merchant Name</th>\n",
       "      <th>Merchant City</th>\n",
       "      <th>MCC</th>\n",
       "      <th>Errors?</th>\n",
       "      <th>Is Fraud?</th>\n",
       "      <th>Time_interval</th>\n",
       "    </tr>\n",
       "  </thead>\n",
       "  <tbody>\n",
       "    <tr>\n",
       "      <th>18836345</th>\n",
       "      <td>2</td>\n",
       "      <td>2008</td>\n",
       "      <td>2</td>\n",
       "      <td>4</td>\n",
       "      <td>167.52</td>\n",
       "      <td>1</td>\n",
       "      <td>7272219750676920057</td>\n",
       "      <td>8656</td>\n",
       "      <td>5193</td>\n",
       "      <td>22</td>\n",
       "      <td>1</td>\n",
       "      <td>1</td>\n",
       "    </tr>\n",
       "    <tr>\n",
       "      <th>8659971</th>\n",
       "      <td>3</td>\n",
       "      <td>2018</td>\n",
       "      <td>7</td>\n",
       "      <td>12</td>\n",
       "      <td>128.49</td>\n",
       "      <td>0</td>\n",
       "      <td>-8830141029664022553</td>\n",
       "      <td>10300</td>\n",
       "      <td>5211</td>\n",
       "      <td>14</td>\n",
       "      <td>1</td>\n",
       "      <td>2</td>\n",
       "    </tr>\n",
       "    <tr>\n",
       "      <th>20443</th>\n",
       "      <td>1</td>\n",
       "      <td>2013</td>\n",
       "      <td>6</td>\n",
       "      <td>28</td>\n",
       "      <td>42.30</td>\n",
       "      <td>2</td>\n",
       "      <td>6698459923198770712</td>\n",
       "      <td>4270</td>\n",
       "      <td>4814</td>\n",
       "      <td>22</td>\n",
       "      <td>0</td>\n",
       "      <td>2</td>\n",
       "    </tr>\n",
       "    <tr>\n",
       "      <th>4836707</th>\n",
       "      <td>3</td>\n",
       "      <td>2018</td>\n",
       "      <td>9</td>\n",
       "      <td>24</td>\n",
       "      <td>103.68</td>\n",
       "      <td>0</td>\n",
       "      <td>590183032319022035</td>\n",
       "      <td>10300</td>\n",
       "      <td>5094</td>\n",
       "      <td>22</td>\n",
       "      <td>1</td>\n",
       "      <td>3</td>\n",
       "    </tr>\n",
       "    <tr>\n",
       "      <th>19570</th>\n",
       "      <td>3</td>\n",
       "      <td>2019</td>\n",
       "      <td>6</td>\n",
       "      <td>21</td>\n",
       "      <td>34.05</td>\n",
       "      <td>2</td>\n",
       "      <td>-5023497618971072366</td>\n",
       "      <td>7737</td>\n",
       "      <td>5812</td>\n",
       "      <td>22</td>\n",
       "      <td>0</td>\n",
       "      <td>3</td>\n",
       "    </tr>\n",
       "    <tr>\n",
       "      <th>...</th>\n",
       "      <td>...</td>\n",
       "      <td>...</td>\n",
       "      <td>...</td>\n",
       "      <td>...</td>\n",
       "      <td>...</td>\n",
       "      <td>...</td>\n",
       "      <td>...</td>\n",
       "      <td>...</td>\n",
       "      <td>...</td>\n",
       "      <td>...</td>\n",
       "      <td>...</td>\n",
       "      <td>...</td>\n",
       "    </tr>\n",
       "    <tr>\n",
       "      <th>16424179</th>\n",
       "      <td>6</td>\n",
       "      <td>2018</td>\n",
       "      <td>2</td>\n",
       "      <td>7</td>\n",
       "      <td>156.88</td>\n",
       "      <td>0</td>\n",
       "      <td>4573875080712571902</td>\n",
       "      <td>10300</td>\n",
       "      <td>5045</td>\n",
       "      <td>22</td>\n",
       "      <td>1</td>\n",
       "      <td>2</td>\n",
       "    </tr>\n",
       "    <tr>\n",
       "      <th>3564</th>\n",
       "      <td>0</td>\n",
       "      <td>2013</td>\n",
       "      <td>8</td>\n",
       "      <td>19</td>\n",
       "      <td>37.82</td>\n",
       "      <td>2</td>\n",
       "      <td>4060646732831064559</td>\n",
       "      <td>6274</td>\n",
       "      <td>5411</td>\n",
       "      <td>22</td>\n",
       "      <td>0</td>\n",
       "      <td>1</td>\n",
       "    </tr>\n",
       "    <tr>\n",
       "      <th>14690</th>\n",
       "      <td>3</td>\n",
       "      <td>2010</td>\n",
       "      <td>8</td>\n",
       "      <td>17</td>\n",
       "      <td>10.04</td>\n",
       "      <td>2</td>\n",
       "      <td>-5023497618971072366</td>\n",
       "      <td>7737</td>\n",
       "      <td>5812</td>\n",
       "      <td>22</td>\n",
       "      <td>0</td>\n",
       "      <td>2</td>\n",
       "    </tr>\n",
       "    <tr>\n",
       "      <th>15928555</th>\n",
       "      <td>1</td>\n",
       "      <td>2015</td>\n",
       "      <td>4</td>\n",
       "      <td>29</td>\n",
       "      <td>37.66</td>\n",
       "      <td>1</td>\n",
       "      <td>5232804510082391016</td>\n",
       "      <td>8656</td>\n",
       "      <td>5814</td>\n",
       "      <td>22</td>\n",
       "      <td>1</td>\n",
       "      <td>1</td>\n",
       "    </tr>\n",
       "    <tr>\n",
       "      <th>16927</th>\n",
       "      <td>3</td>\n",
       "      <td>2014</td>\n",
       "      <td>10</td>\n",
       "      <td>1</td>\n",
       "      <td>130.38</td>\n",
       "      <td>2</td>\n",
       "      <td>-34551508091458520</td>\n",
       "      <td>6274</td>\n",
       "      <td>5912</td>\n",
       "      <td>22</td>\n",
       "      <td>0</td>\n",
       "      <td>1</td>\n",
       "    </tr>\n",
       "  </tbody>\n",
       "</table>\n",
       "<p>40000 rows × 12 columns</p>\n",
       "</div>"
      ],
      "text/plain": [
       "          Card  Year  Month  Day  Amount  Use Chip        Merchant Name  \\\n",
       "18836345     2  2008      2    4  167.52         1  7272219750676920057   \n",
       "8659971      3  2018      7   12  128.49         0 -8830141029664022553   \n",
       "20443        1  2013      6   28   42.30         2  6698459923198770712   \n",
       "4836707      3  2018      9   24  103.68         0   590183032319022035   \n",
       "19570        3  2019      6   21   34.05         2 -5023497618971072366   \n",
       "...        ...   ...    ...  ...     ...       ...                  ...   \n",
       "16424179     6  2018      2    7  156.88         0  4573875080712571902   \n",
       "3564         0  2013      8   19   37.82         2  4060646732831064559   \n",
       "14690        3  2010      8   17   10.04         2 -5023497618971072366   \n",
       "15928555     1  2015      4   29   37.66         1  5232804510082391016   \n",
       "16927        3  2014     10    1  130.38         2   -34551508091458520   \n",
       "\n",
       "          Merchant City   MCC  Errors?  Is Fraud?  Time_interval  \n",
       "18836345           8656  5193       22          1              1  \n",
       "8659971           10300  5211       14          1              2  \n",
       "20443              4270  4814       22          0              2  \n",
       "4836707           10300  5094       22          1              3  \n",
       "19570              7737  5812       22          0              3  \n",
       "...                 ...   ...      ...        ...            ...  \n",
       "16424179          10300  5045       22          1              2  \n",
       "3564               6274  5411       22          0              1  \n",
       "14690              7737  5812       22          0              2  \n",
       "15928555           8656  5814       22          1              1  \n",
       "16927              6274  5912       22          0              1  \n",
       "\n",
       "[40000 rows x 12 columns]"
      ]
     },
     "execution_count": 21,
     "metadata": {},
     "output_type": "execute_result"
    }
   ],
   "source": [
    "shuffled_test"
   ]
  },
  {
   "cell_type": "code",
   "execution_count": 22,
   "metadata": {},
   "outputs": [
    {
     "data": {
      "text/plain": [
       "1    20000\n",
       "0    20000\n",
       "Name: Is Fraud?, dtype: int64"
      ]
     },
     "execution_count": 22,
     "metadata": {},
     "output_type": "execute_result"
    }
   ],
   "source": [
    "shuffled_test['Is Fraud?'].value_counts()"
   ]
  },
  {
   "cell_type": "markdown",
   "metadata": {},
   "source": [
    "### Создадим дополнительную выборку для дополнительной проверки как на настоящих данных"
   ]
  },
  {
   "cell_type": "code",
   "execution_count": 23,
   "metadata": {},
   "outputs": [],
   "source": [
    "itogo = tranz.iloc[-1000:].copy()\n",
    "itogo_tf = test[test['Is Fraud?']==1].iloc[:1].copy()\n",
    "itogo = pd.concat([itogo, itogo_tf])\n",
    "itogo_res = itogo['Is Fraud?']\n",
    "itogo = itogo.drop(['Is Fraud?', 'User'], axis=1)"
   ]
  },
  {
   "cell_type": "code",
   "execution_count": 24,
   "metadata": {
    "scrolled": true
   },
   "outputs": [
    {
     "data": {
      "text/plain": [
       "0    1000\n",
       "1       1\n",
       "Name: Is Fraud?, dtype: int64"
      ]
     },
     "execution_count": 24,
     "metadata": {},
     "output_type": "execute_result"
    }
   ],
   "source": [
    "itogo_res.value_counts()"
   ]
  },
  {
   "cell_type": "code",
   "execution_count": 25,
   "metadata": {
    "scrolled": true
   },
   "outputs": [
    {
     "data": {
      "text/plain": [
       "Card  Year  Month  Day  Amount  Use Chip  Merchant Name         Merchant City  MCC   Errors?  Time_interval\n",
       "1     2020  2      28   59.15   0          2500998799892805156  7555           4121  22       1                1\n",
       "      2019  9      11   57.78   1         -4241409341442030551  8656           7349  22       2                1\n",
       "                   14   57.57   0          1799189980464955940  7555           5499  22       3                1\n",
       "                        50.43   0          2500998799892805156  7555           4121  22       1                1\n",
       "                        44.98   0          2500998799892805156  7555           4121  22       3                1\n",
       "                                                                                                              ..\n",
       "            11     28   44.47   0          3597605838047626910  7555           5813  22       3                1\n",
       "                        26.01   0          2500998799892805156  7555           4121  22       3                1\n",
       "                   27   92.00   0          1799189980464955940  7555           5499  22       3                1\n",
       "                        66.10   0          1799189980464955940  7555           5499  22       3                1\n",
       "0     2015  11     15   287.13  1         -8194607650924472520  8656           3001  22       2                1\n",
       "Length: 1001, dtype: int64"
      ]
     },
     "execution_count": 25,
     "metadata": {},
     "output_type": "execute_result"
    }
   ],
   "source": [
    "itogo.value_counts() #проверим данные"
   ]
  },
  {
   "cell_type": "code",
   "execution_count": 26,
   "metadata": {},
   "outputs": [],
   "source": [
    "from sklearn.preprocessing import StandardScaler\n",
    "sc = StandardScaler()"
   ]
  },
  {
   "cell_type": "code",
   "execution_count": 27,
   "metadata": {},
   "outputs": [
    {
     "data": {
      "text/plain": [
       "array([[ 0.16939978, -1.5279633 , -1.3029264 , ..., -0.25831407,\n",
       "         0.12851314, -0.70123621],\n",
       "       [ 0.91829359,  1.25809204,  0.13992802, ..., -0.23924114,\n",
       "        -3.94682174,  0.59190142],\n",
       "       [-0.57949403, -0.13493563, -0.14864286, ..., -0.65990507,\n",
       "         0.12851314,  0.59190142],\n",
       "       ...,\n",
       "       [ 0.91829359, -0.97075223,  0.4284989 , ...,  0.3975826 ,\n",
       "         0.12851314,  0.59190142],\n",
       "       [-0.57949403,  0.42227544, -0.72578463, ...,  0.39970181,\n",
       "         0.12851314, -0.70123621],\n",
       "       [ 0.91829359,  0.14366991,  1.00564067, ...,  0.50354328,\n",
       "         0.12851314, -0.70123621]])"
      ]
     },
     "execution_count": 27,
     "metadata": {},
     "output_type": "execute_result"
    }
   ],
   "source": [
    "x1 = shuffled_test.drop(['Is Fraud?'], axis=1)\n",
    "y1 = shuffled_test['Is Fraud?']\n",
    "sc.fit(x1.values)\n",
    "X_ans = sc.transform(x1.values)\n",
    "X_ans"
   ]
  },
  {
   "cell_type": "code",
   "execution_count": 28,
   "metadata": {},
   "outputs": [],
   "source": [
    "# y = tranz['Is Fraud?'] #выделяем целевую переменную из общего объема данных\n",
    "# X = tranz.drop('Is Fraud?', axis=1) #удаляем целевую переменную из обучающего множества\n",
    "# sc = StandardScaler()\n",
    "# sc.fit(X)\n",
    "# X_ans = sc.transform(X)"
   ]
  },
  {
   "cell_type": "code",
   "execution_count": 29,
   "metadata": {},
   "outputs": [],
   "source": [
    "itogo = sc.transform(itogo.values)"
   ]
  },
  {
   "cell_type": "code",
   "execution_count": 30,
   "metadata": {},
   "outputs": [],
   "source": [
    "# from sklearn.model_selection import train_test_split, StratifiedKFold, validation_curve\n",
    "# from sklearn import svm #импортируем нашу модель\n",
    "# X_train, X_test, y_train, y_test = train_test_split(X_ans, y, test_size=0.2, random_state=42) # разбиваем множества"
   ]
  },
  {
   "cell_type": "code",
   "execution_count": 31,
   "metadata": {},
   "outputs": [],
   "source": [
    "from sklearn.model_selection import train_test_split, StratifiedKFold, validation_curve\n",
    "\n",
    "X_train, X_test, y_train, y_test = train_test_split(X_ans, y1.values, test_size=0.2, random_state=42) # разбиваем множества"
   ]
  },
  {
   "cell_type": "code",
   "execution_count": 32,
   "metadata": {},
   "outputs": [
    {
     "name": "stdout",
     "output_type": "stream",
     "text": [
      "Shape of X_train: (32000, 11)\n",
      "Shape of y_train: (32000,)\n"
     ]
    }
   ],
   "source": [
    "print(\"Shape of X_train:\", X_train.shape)\n",
    "print(\"Shape of y_train:\", y_train.shape)"
   ]
  },
  {
   "cell_type": "markdown",
   "metadata": {},
   "source": [
    "### Воспользуемся методами машинного обучения"
   ]
  },
  {
   "cell_type": "markdown",
   "metadata": {},
   "source": [
    "### Логистическая регессия"
   ]
  },
  {
   "cell_type": "code",
   "execution_count": 33,
   "metadata": {},
   "outputs": [],
   "source": [
    "from sklearn.linear_model import LogisticRegression \n",
    "from sklearn.metrics import precision_score\n",
    "LogisticRegression_model = LogisticRegression(max_iter=10000)\n",
    "LogisticRegression_model.fit(X_train, y_train)\n",
    "LogisticRegression_predict = LogisticRegression_model.predict(X_test)"
   ]
  },
  {
   "cell_type": "code",
   "execution_count": 34,
   "metadata": {},
   "outputs": [
    {
     "name": "stdout",
     "output_type": "stream",
     "text": [
      "              precision    recall  f1-score   support\n",
      "\n",
      "           0       0.87      0.83      0.85      3995\n",
      "           1       0.83      0.87      0.85      4005\n",
      "\n",
      "    accuracy                           0.85      8000\n",
      "   macro avg       0.85      0.85      0.85      8000\n",
      "weighted avg       0.85      0.85      0.85      8000\n",
      "\n"
     ]
    }
   ],
   "source": [
    "precision_score(y_test, LogisticRegression_predict)\n",
    "print(classification_report(y_test, LogisticRegression_predict))"
   ]
  },
  {
   "cell_type": "code",
   "execution_count": 35,
   "metadata": {},
   "outputs": [
    {
     "name": "stdout",
     "output_type": "stream",
     "text": [
      "              precision    recall  f1-score   support\n",
      "\n",
      "           0       1.00      0.75      0.86      1000\n",
      "           1       0.00      1.00      0.01         1\n",
      "\n",
      "    accuracy                           0.75      1001\n",
      "   macro avg       0.50      0.88      0.43      1001\n",
      "weighted avg       1.00      0.75      0.86      1001\n",
      "\n"
     ]
    }
   ],
   "source": [
    "LogisticRegression_predict_itogo = LogisticRegression_model.predict(itogo)    \n",
    "precision_score(itogo_res, LogisticRegression_predict_itogo)\n",
    "print(classification_report(itogo_res, LogisticRegression_predict_itogo))"
   ]
  },
  {
   "cell_type": "markdown",
   "metadata": {},
   "source": [
    "### Деревья решений"
   ]
  },
  {
   "cell_type": "code",
   "execution_count": 36,
   "metadata": {},
   "outputs": [],
   "source": [
    "from sklearn.tree import DecisionTreeClassifier #импортируем модель деревьев решений\n",
    "from sklearn import metrics"
   ]
  },
  {
   "cell_type": "code",
   "execution_count": 37,
   "metadata": {},
   "outputs": [],
   "source": [
    "DecisionTreeClassifier_model = DecisionTreeClassifier(random_state=123, min_samples_split=28) # инициализируем модель"
   ]
  },
  {
   "cell_type": "code",
   "execution_count": 38,
   "metadata": {},
   "outputs": [],
   "source": [
    "DecisionTreeClassifier_model.fit(X_train, y_train)                    # обучаем модель\n",
    "predicted_DecisionTreeClassifier = DecisionTreeClassifier_model.predict(X_test)    "
   ]
  },
  {
   "cell_type": "code",
   "execution_count": 39,
   "metadata": {
    "scrolled": true
   },
   "outputs": [
    {
     "name": "stdout",
     "output_type": "stream",
     "text": [
      "              precision    recall  f1-score   support\n",
      "\n",
      "           0       0.96      0.97      0.97      3995\n",
      "           1       0.97      0.96      0.97      4005\n",
      "\n",
      "    accuracy                           0.97      8000\n",
      "   macro avg       0.97      0.97      0.97      8000\n",
      "weighted avg       0.97      0.97      0.97      8000\n",
      "\n"
     ]
    }
   ],
   "source": [
    "precision_score(y_test, predicted_DecisionTreeClassifier)\n",
    "print(classification_report(y_test, predicted_DecisionTreeClassifier))"
   ]
  },
  {
   "cell_type": "code",
   "execution_count": 40,
   "metadata": {},
   "outputs": [
    {
     "name": "stdout",
     "output_type": "stream",
     "text": [
      "              precision    recall  f1-score   support\n",
      "\n",
      "           0       1.00      0.72      0.84      1000\n",
      "           1       0.00      1.00      0.01         1\n",
      "\n",
      "    accuracy                           0.72      1001\n",
      "   macro avg       0.50      0.86      0.42      1001\n",
      "weighted avg       1.00      0.72      0.84      1001\n",
      "\n"
     ]
    }
   ],
   "source": [
    "predicted_DecisionTreeClassifier_itogo = DecisionTreeClassifier_model.predict(itogo)    \n",
    "precision_score(itogo_res, predicted_DecisionTreeClassifier_itogo)\n",
    "print(classification_report(itogo_res, predicted_DecisionTreeClassifier_itogo))"
   ]
  },
  {
   "cell_type": "markdown",
   "metadata": {},
   "source": [
    "### Случайный лес"
   ]
  },
  {
   "cell_type": "code",
   "execution_count": 41,
   "metadata": {},
   "outputs": [],
   "source": [
    "from sklearn.ensemble import RandomForestClassifier"
   ]
  },
  {
   "cell_type": "code",
   "execution_count": 42,
   "metadata": {},
   "outputs": [],
   "source": [
    "RandomForest_model = RandomForestClassifier(n_estimators=100, max_depth=5, random_state=42)"
   ]
  },
  {
   "cell_type": "code",
   "execution_count": 43,
   "metadata": {},
   "outputs": [
    {
     "data": {
      "text/plain": [
       "RandomForestClassifier(max_depth=5, random_state=42)"
      ]
     },
     "execution_count": 43,
     "metadata": {},
     "output_type": "execute_result"
    }
   ],
   "source": [
    "RandomForest_model.fit(X_train, y_train)"
   ]
  },
  {
   "cell_type": "code",
   "execution_count": 44,
   "metadata": {},
   "outputs": [
    {
     "name": "stdout",
     "output_type": "stream",
     "text": [
      "              precision    recall  f1-score   support\n",
      "\n",
      "           0       0.92      0.89      0.90      3995\n",
      "           1       0.89      0.92      0.91      4005\n",
      "\n",
      "    accuracy                           0.90      8000\n",
      "   macro avg       0.91      0.90      0.90      8000\n",
      "weighted avg       0.91      0.90      0.90      8000\n",
      "\n"
     ]
    }
   ],
   "source": [
    "predicted_RandomForest = RandomForest_model.predict(X_test)    \n",
    "precision_score(y_test, predicted_RandomForest)\n",
    "print(classification_report(y_test, predicted_RandomForest))"
   ]
  },
  {
   "cell_type": "code",
   "execution_count": 45,
   "metadata": {},
   "outputs": [
    {
     "name": "stdout",
     "output_type": "stream",
     "text": [
      "              precision    recall  f1-score   support\n",
      "\n",
      "           0       1.00      0.67      0.80      1000\n",
      "           1       0.00      1.00      0.01         1\n",
      "\n",
      "    accuracy                           0.67      1001\n",
      "   macro avg       0.50      0.84      0.41      1001\n",
      "weighted avg       1.00      0.67      0.80      1001\n",
      "\n"
     ]
    }
   ],
   "source": [
    "predicted_RandomForest_itogo = RandomForest_model.predict(itogo)    \n",
    "precision_score(itogo_res, predicted_RandomForest_itogo)\n",
    "print(classification_report(itogo_res, predicted_RandomForest_itogo))"
   ]
  },
  {
   "cell_type": "markdown",
   "metadata": {},
   "source": [
    "### XGBoost"
   ]
  },
  {
   "cell_type": "code",
   "execution_count": 46,
   "metadata": {},
   "outputs": [],
   "source": [
    "from xgboost import XGBRegressor "
   ]
  },
  {
   "cell_type": "code",
   "execution_count": 47,
   "metadata": {},
   "outputs": [
    {
     "data": {
      "text/plain": [
       "XGBRegressor(base_score=0.5, booster='gbtree', callbacks=None,\n",
       "             colsample_bylevel=1, colsample_bynode=1, colsample_bytree=1,\n",
       "             early_stopping_rounds=None, enable_categorical=False,\n",
       "             eval_metric=None, feature_types=None, gamma=0, gpu_id=-1,\n",
       "             grow_policy='depthwise', importance_type=None,\n",
       "             interaction_constraints='', learning_rate=0.300000012, max_bin=256,\n",
       "             max_cat_threshold=64, max_cat_to_onehot=4, max_delta_step=0,\n",
       "             max_depth=6, max_leaves=0, min_child_weight=1, missing=nan,\n",
       "             monotone_constraints='()', n_estimators=100, n_jobs=0,\n",
       "             num_parallel_tree=1, predictor='auto', random_state=0, ...)"
      ]
     },
     "execution_count": 47,
     "metadata": {},
     "output_type": "execute_result"
    }
   ],
   "source": [
    "xgb = XGBRegressor()\n",
    "xgb.fit(X_train, y_train)"
   ]
  },
  {
   "cell_type": "code",
   "execution_count": 48,
   "metadata": {},
   "outputs": [],
   "source": [
    "predicted_xgb = xgb.predict(X_test)   # делаем предсказание"
   ]
  },
  {
   "cell_type": "code",
   "execution_count": 49,
   "metadata": {},
   "outputs": [
    {
     "name": "stdout",
     "output_type": "stream",
     "text": [
      "accuracy score model:  0.984875\n",
      "classification_report model:\n",
      "                precision    recall  f1-score   support\n",
      "\n",
      "           0       0.99      0.98      0.98      3995\n",
      "           1       0.98      0.99      0.98      4005\n",
      "\n",
      "    accuracy                           0.98      8000\n",
      "   macro avg       0.98      0.98      0.98      8000\n",
      "weighted avg       0.98      0.98      0.98      8000\n",
      "\n"
     ]
    }
   ],
   "source": [
    "pred_xgb = np.asarray([abs(round(line, 0)) for line in predicted_xgb])\n",
    "print (\"accuracy score model: \", metrics.accuracy_score(pred_xgb, y_test))\n",
    "print (\"classification_report model:\\n \", metrics.classification_report(y_test, pred_xgb))"
   ]
  },
  {
   "cell_type": "code",
   "execution_count": 50,
   "metadata": {},
   "outputs": [
    {
     "name": "stdout",
     "output_type": "stream",
     "text": [
      "accuracy score model:  0.8821178821178821\n",
      "classification_report model:\n",
      "                precision    recall  f1-score   support\n",
      "\n",
      "           0       1.00      0.88      0.94      1000\n",
      "           1       0.01      1.00      0.02         1\n",
      "\n",
      "    accuracy                           0.88      1001\n",
      "   macro avg       0.50      0.94      0.48      1001\n",
      "weighted avg       1.00      0.88      0.94      1001\n",
      "\n"
     ]
    }
   ],
   "source": [
    "predicted_xgb_itogo = xgb.predict(itogo)   # делаем предсказание\n",
    "pred_xgb_itogo = np.asarray([abs(round(line, 0)) for line in predicted_xgb_itogo])\n",
    "print (\"accuracy score model: \", metrics.accuracy_score(pred_xgb_itogo, itogo_res))\n",
    "print (\"classification_report model:\\n \", metrics.classification_report(itogo_res, pred_xgb_itogo))"
   ]
  },
  {
   "cell_type": "markdown",
   "metadata": {},
   "source": [
    "### Нейронная сеть"
   ]
  },
  {
   "cell_type": "code",
   "execution_count": 51,
   "metadata": {},
   "outputs": [],
   "source": [
    "from keras.models import Sequential\n",
    "from keras.layers import Dense, SimpleRNN\n",
    "from tensorflow.keras.layers import LSTM, TimeDistributed, Conv1D, MaxPooling1D, Flatten, GlobalMaxPooling1D, Embedding, Input, Reshape, Dropout, BatchNormalization\n",
    "from keras import regularizers\n",
    "from keras.callbacks import EarlyStopping"
   ]
  },
  {
   "cell_type": "code",
   "execution_count": 52,
   "metadata": {},
   "outputs": [],
   "source": [
    "early_stopping = EarlyStopping(patience=5) # остановка обучения, если качество не улучшается в течение 5 эпох\n",
    "\n",
    "T= X_train.shape[1]\n",
    "model = Sequential([\n",
    "    Input(shape=(T)),\n",
    "    Dense(5, activation='relu', kernel_regularizer=regularizers.l2(0.01)),\n",
    "    BatchNormalization(),\n",
    "    Dense(5, activation='relu'),\n",
    "    Dense(1, activation='sigmoid')\n",
    "])"
   ]
  },
  {
   "cell_type": "code",
   "execution_count": 53,
   "metadata": {},
   "outputs": [
    {
     "name": "stdout",
     "output_type": "stream",
     "text": [
      "Model: \"sequential\"\n",
      "_________________________________________________________________\n",
      " Layer (type)                Output Shape              Param #   \n",
      "=================================================================\n",
      " dense (Dense)               (None, 5)                 60        \n",
      "                                                                 \n",
      " batch_normalization (BatchN  (None, 5)                20        \n",
      " ormalization)                                                   \n",
      "                                                                 \n",
      " dense_1 (Dense)             (None, 5)                 30        \n",
      "                                                                 \n",
      " dense_2 (Dense)             (None, 1)                 6         \n",
      "                                                                 \n",
      "=================================================================\n",
      "Total params: 116\n",
      "Trainable params: 106\n",
      "Non-trainable params: 10\n",
      "_________________________________________________________________\n",
      "Epoch 1/200\n",
      "800/800 [==============================] - 1s 1ms/step - loss: 0.5961 - accuracy: 0.6948 - val_loss: 0.3514 - val_accuracy: 0.8870\n",
      "Epoch 2/200\n",
      "800/800 [==============================] - 1s 969us/step - loss: 0.3244 - accuracy: 0.8886 - val_loss: 0.2812 - val_accuracy: 0.9003\n",
      "Epoch 3/200\n",
      "800/800 [==============================] - 1s 901us/step - loss: 0.2886 - accuracy: 0.8948 - val_loss: 0.2608 - val_accuracy: 0.9077\n",
      "Epoch 4/200\n",
      "800/800 [==============================] - 1s 909us/step - loss: 0.2750 - accuracy: 0.8984 - val_loss: 0.2561 - val_accuracy: 0.9077\n",
      "Epoch 5/200\n",
      "800/800 [==============================] - 1s 912us/step - loss: 0.2733 - accuracy: 0.9015 - val_loss: 0.2526 - val_accuracy: 0.9100\n",
      "Epoch 6/200\n",
      "800/800 [==============================] - 1s 908us/step - loss: 0.2682 - accuracy: 0.9021 - val_loss: 0.2483 - val_accuracy: 0.9108\n",
      "Epoch 7/200\n",
      "800/800 [==============================] - 1s 958us/step - loss: 0.2659 - accuracy: 0.9044 - val_loss: 0.2454 - val_accuracy: 0.9134\n",
      "Epoch 8/200\n",
      "800/800 [==============================] - 1s 905us/step - loss: 0.2662 - accuracy: 0.9031 - val_loss: 0.2440 - val_accuracy: 0.9137\n",
      "Epoch 9/200\n",
      "800/800 [==============================] - 1s 897us/step - loss: 0.2630 - accuracy: 0.9049 - val_loss: 0.2439 - val_accuracy: 0.9117\n",
      "Epoch 10/200\n",
      "800/800 [==============================] - 1s 904us/step - loss: 0.2627 - accuracy: 0.9047 - val_loss: 0.2409 - val_accuracy: 0.9125\n",
      "Epoch 11/200\n",
      "800/800 [==============================] - 1s 912us/step - loss: 0.2634 - accuracy: 0.9044 - val_loss: 0.2407 - val_accuracy: 0.9137\n",
      "Epoch 12/200\n",
      "800/800 [==============================] - 1s 905us/step - loss: 0.2621 - accuracy: 0.9061 - val_loss: 0.2403 - val_accuracy: 0.9122\n",
      "Epoch 13/200\n",
      "800/800 [==============================] - 1s 902us/step - loss: 0.2583 - accuracy: 0.9062 - val_loss: 0.2415 - val_accuracy: 0.9102\n",
      "Epoch 14/200\n",
      "800/800 [==============================] - 1s 899us/step - loss: 0.2576 - accuracy: 0.9055 - val_loss: 0.2358 - val_accuracy: 0.9117\n",
      "Epoch 15/200\n",
      "800/800 [==============================] - 1s 891us/step - loss: 0.2601 - accuracy: 0.9048 - val_loss: 0.2395 - val_accuracy: 0.9158\n",
      "Epoch 16/200\n",
      "800/800 [==============================] - 1s 897us/step - loss: 0.2595 - accuracy: 0.9064 - val_loss: 0.2384 - val_accuracy: 0.9125\n",
      "Epoch 17/200\n",
      "800/800 [==============================] - 1s 899us/step - loss: 0.2567 - accuracy: 0.9060 - val_loss: 0.2384 - val_accuracy: 0.9139\n",
      "Epoch 18/200\n",
      "800/800 [==============================] - 1s 907us/step - loss: 0.2576 - accuracy: 0.9060 - val_loss: 0.2414 - val_accuracy: 0.9111\n",
      "Epoch 19/200\n",
      "800/800 [==============================] - 1s 904us/step - loss: 0.2592 - accuracy: 0.9056 - val_loss: 0.2385 - val_accuracy: 0.9130\n"
     ]
    }
   ],
   "source": [
    "model.compile(optimizer='adam', loss='binary_crossentropy', metrics=['accuracy'])\n",
    "model.summary()\n",
    "history_model = model.fit(X_train, y_train, epochs=200, batch_size=32, \n",
    "                          validation_split=0.2, callbacks=[early_stopping])"
   ]
  },
  {
   "cell_type": "code",
   "execution_count": 54,
   "metadata": {},
   "outputs": [],
   "source": [
    "# plot_model(model), to_file='model_CNN_plot.png', \n",
    "#     show_shapes=True,\n",
    "#     show_dtype=False,\n",
    "#     show_layer_names=True,\n",
    "#     rankdir=\"TB\",\n",
    "#     expand_nested=True,\n",
    "#     dpi=96,\n",
    "#     layer_range=None,\n",
    "#     show_layer_activations=True,\n",
    "#     show_trainable=False,\n",
    "# )"
   ]
  },
  {
   "cell_type": "code",
   "execution_count": 55,
   "metadata": {
    "scrolled": true
   },
   "outputs": [
    {
     "name": "stdout",
     "output_type": "stream",
     "text": [
      "Test loss: 0.2452635020017624\n",
      "Test accuracy: 0.9120000004768372\n"
     ]
    }
   ],
   "source": [
    "# Оценка производительности модели на тестовой выборке\n",
    "score = model.evaluate(X_test, y_test, verbose=0)\n",
    "print(\"Test loss:\", score[0])\n",
    "print(\"Test accuracy:\", score[1])"
   ]
  },
  {
   "cell_type": "code",
   "execution_count": 56,
   "metadata": {},
   "outputs": [
    {
     "data": {
      "text/plain": [
       "dict_keys(['loss', 'accuracy', 'val_loss', 'val_accuracy'])"
      ]
     },
     "execution_count": 56,
     "metadata": {},
     "output_type": "execute_result"
    }
   ],
   "source": [
    "history_model.history.keys()"
   ]
  },
  {
   "cell_type": "markdown",
   "metadata": {},
   "source": [
    "### Построим графики обучения нейронной сети"
   ]
  },
  {
   "cell_type": "code",
   "execution_count": 57,
   "metadata": {
    "scrolled": true
   },
   "outputs": [
    {
     "data": {
      "image/png": "[encoded data removed]",
      "text/plain": [
       "<Figure size 432x288 with 1 Axes>"
      ]
     },
     "metadata": {
      "needs_background": "light"
     },
     "output_type": "display_data"
    }
   ],
   "source": [
    "plt.plot(history_model.history['val_accuracy'], label='validation accuracy')\n",
    "plt.plot(history_model.history['accuracy'], label='training accuracy')\n",
    "plt.legend();"
   ]
  },
  {
   "cell_type": "code",
   "execution_count": 58,
   "metadata": {
    "scrolled": true
   },
   "outputs": [
    {
     "data": {
      "image/png": "[encoded data removed]",
      "text/plain": [
       "<Figure size 432x288 with 1 Axes>"
      ]
     },
     "metadata": {
      "needs_background": "light"
     },
     "output_type": "display_data"
    }
   ],
   "source": [
    "plt.plot(history_model.history['loss'], label='loss')\n",
    "plt.plot(history_model.history['val_loss'], label='val_loss')\n",
    "plt.legend();"
   ]
  },
  {
   "cell_type": "code",
   "execution_count": 59,
   "metadata": {
    "scrolled": true
   },
   "outputs": [
    {
     "name": "stdout",
     "output_type": "stream",
     "text": [
      "250/250 [==============================] - 0s 542us/step\n"
     ]
    },
    {
     "data": {
      "text/plain": [
       "array([[0.96895736],\n",
       "       [0.00827238],\n",
       "       [0.48836097],\n",
       "       ...,\n",
       "       [0.5829551 ],\n",
       "       [0.8819128 ],\n",
       "       [0.97972417]], dtype=float32)"
      ]
     },
     "execution_count": 59,
     "metadata": {},
     "output_type": "execute_result"
    }
   ],
   "source": [
    "predict=model.predict(X_test)\n",
    "predict"
   ]
  },
  {
   "cell_type": "code",
   "execution_count": 60,
   "metadata": {},
   "outputs": [
    {
     "data": {
      "text/plain": [
       "array([[1],\n",
       "       [0],\n",
       "       [0],\n",
       "       ...,\n",
       "       [1],\n",
       "       [1],\n",
       "       [1]], dtype=int64)"
      ]
     },
     "execution_count": 60,
     "metadata": {},
     "output_type": "execute_result"
    }
   ],
   "source": [
    "predict=np.rint(predict)\n",
    "predict=np.int64(predict)\n",
    "predict"
   ]
  },
  {
   "cell_type": "code",
   "execution_count": 61,
   "metadata": {},
   "outputs": [
    {
     "name": "stdout",
     "output_type": "stream",
     "text": [
      "              precision    recall  f1-score   support\n",
      "\n",
      "           0       0.93      0.90      0.91      3995\n",
      "           1       0.90      0.93      0.91      4005\n",
      "\n",
      "    accuracy                           0.91      8000\n",
      "   macro avg       0.91      0.91      0.91      8000\n",
      "weighted avg       0.91      0.91      0.91      8000\n",
      "\n"
     ]
    }
   ],
   "source": [
    "print(classification_report(y_test, predict.reshape(-1)))"
   ]
  },
  {
   "cell_type": "code",
   "execution_count": 62,
   "metadata": {},
   "outputs": [
    {
     "name": "stdout",
     "output_type": "stream",
     "text": [
      "32/32 [==============================] - 0s 581us/step\n"
     ]
    },
    {
     "data": {
      "text/plain": [
       "array([[0.75383836],\n",
       "       [0.74446255],\n",
       "       [0.88268733],\n",
       "       ...,\n",
       "       [0.06329267],\n",
       "       [0.0808285 ],\n",
       "       [0.9682325 ]], dtype=float32)"
      ]
     },
     "execution_count": 62,
     "metadata": {},
     "output_type": "execute_result"
    }
   ],
   "source": [
    "predict_itogo=model.predict(itogo)\n",
    "predict_itogo"
   ]
  },
  {
   "cell_type": "code",
   "execution_count": 63,
   "metadata": {
    "scrolled": true
   },
   "outputs": [
    {
     "data": {
      "text/plain": [
       "array([[1],\n",
       "       [1],\n",
       "       [1],\n",
       "       ...,\n",
       "       [0],\n",
       "       [0],\n",
       "       [1]], dtype=int64)"
      ]
     },
     "execution_count": 63,
     "metadata": {},
     "output_type": "execute_result"
    }
   ],
   "source": [
    "predict_itogo=np.rint(predict_itogo)\n",
    "predict_itogo=np.int64(predict_itogo)\n",
    "predict_itogo"
   ]
  },
  {
   "cell_type": "code",
   "execution_count": 64,
   "metadata": {
    "scrolled": true
   },
   "outputs": [
    {
     "name": "stdout",
     "output_type": "stream",
     "text": [
      "              precision    recall  f1-score   support\n",
      "\n",
      "           0       1.00      0.67      0.80      1000\n",
      "           1       0.00      1.00      0.01         1\n",
      "\n",
      "    accuracy                           0.67      1001\n",
      "   macro avg       0.50      0.84      0.41      1001\n",
      "weighted avg       1.00      0.67      0.80      1001\n",
      "\n"
     ]
    }
   ],
   "source": [
    "print(classification_report(itogo_res, predict_itogo))"
   ]
  },
  {
   "cell_type": "code",
   "execution_count": null,
   "metadata": {},
   "outputs": [],
   "source": []
  }
 ],
 "metadata": {
  "kernelspec": {
   "display_name": "Python 3",
   "language": "python",
   "name": "python3"
  },
  "language_info": {
   "codemirror_mode": {
    "name": "ipython",
    "version": 3
   },
   "file_extension": ".py",
   "mimetype": "text/x-python",
   "name": "python",
   "nbconvert_exporter": "python",
   "pygments_lexer": "ipython3",
   "version": "3.8.5"
  }
 },
 "nbformat": 4,
 "nbformat_minor": 4
}
